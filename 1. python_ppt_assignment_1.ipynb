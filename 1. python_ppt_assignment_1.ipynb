{
 "cells": [
  {
   "cell_type": "markdown",
   "id": "39ffcb65",
   "metadata": {},
   "source": [
    "1. Write a Python program to reverse a string without using any built-in string reversal functions."
   ]
  },
  {
   "cell_type": "code",
   "execution_count": 7,
   "id": "ff8a953c",
   "metadata": {},
   "outputs": [
    {
     "name": "stdout",
     "output_type": "stream",
     "text": [
      "Enter a string: harry\n",
      "Reversed string: yrrah\n"
     ]
    }
   ],
   "source": [
    "def reverse_string(string):\n",
    "    reversed_string = \"\"\n",
    "    for i in range(len(string) - 1, -1, -1):\n",
    "        reversed_string += string[i]\n",
    "    return reversed_string\n",
    "\n",
    "# Example usage\n",
    "input_string = input(\"Enter a string: \")\n",
    "reversed_string = reverse_string(input_string)\n",
    "print(\"Reversed string:\", reversed_string)"
   ]
  },
  {
   "cell_type": "code",
   "execution_count": 8,
   "id": "e5323170",
   "metadata": {},
   "outputs": [
    {
     "data": {
      "text/plain": [
       "'gnirts'"
      ]
     },
     "execution_count": 8,
     "metadata": {},
     "output_type": "execute_result"
    }
   ],
   "source": [
    "s='string'\n",
    "s[::-1]"
   ]
  },
  {
   "cell_type": "markdown",
   "id": "6be76ee8",
   "metadata": {},
   "source": [
    "2. Implement a function to check if a given string is a palindrome."
   ]
  },
  {
   "cell_type": "code",
   "execution_count": 9,
   "id": "b369e18f",
   "metadata": {},
   "outputs": [
    {
     "name": "stdout",
     "output_type": "stream",
     "text": [
      "Enter a string: bob\n",
      "The string is a palindrome.\n"
     ]
    }
   ],
   "source": [
    "def is_palindrome(string):\n",
    "    # Remove any spaces and convert to lowercase\n",
    "    string = string.replace(\" \", \"\").lower()\n",
    "    \n",
    "    # Check if the string is equal to its reverse\n",
    "    return string == string[::-1]\n",
    "\n",
    "# Example usage\n",
    "input_string = input(\"Enter a string: \")\n",
    "if is_palindrome(input_string):\n",
    "    print(\"The string is a palindrome.\")\n",
    "else:\n",
    "    print(\"The string is not a palindrome.\")\n"
   ]
  },
  {
   "cell_type": "markdown",
   "id": "b40f6254",
   "metadata": {},
   "source": [
    "3. Write a program to find the largest element in a given list."
   ]
  },
  {
   "cell_type": "code",
   "execution_count": 10,
   "id": "080f863f",
   "metadata": {},
   "outputs": [
    {
     "name": "stdout",
     "output_type": "stream",
     "text": [
      "8\n"
     ]
    }
   ],
   "source": [
    "l = [2,5,6,8]\n",
    "print(max(l))"
   ]
  },
  {
   "cell_type": "markdown",
   "id": "4c3def56",
   "metadata": {},
   "source": [
    "4. Implement a function to count the occurrence of each element in a list."
   ]
  },
  {
   "cell_type": "code",
   "execution_count": null,
   "id": "137b8732",
   "metadata": {},
   "outputs": [],
   "source": [
    "def count_occurrences(lst):\n",
    "    occurrence_count = {}\n",
    "    \n",
    "    for element in lst:\n",
    "        if element in occurrence_count:\n",
    "            occurrence_count[element] += 1\n",
    "        else:\n",
    "            occurrence_count[element] = 1\n",
    "    \n",
    "    return occurrence_count\n",
    "\n",
    "# Example usage\n",
    "input_list = input(\"Enter a list of elements (space-separated): \").split()\n",
    "occurrence_count = count_occurrences(input_list)\n",
    "print(\"Element Occurrence Count:\")\n",
    "for element, count in occurrence_count.items():\n",
    "    print(element, \":\", count)"
   ]
  },
  {
   "cell_type": "markdown",
   "id": "725ab4e9",
   "metadata": {},
   "source": [
    "5. Write a Python program to find the second largest number in a list."
   ]
  },
  {
   "cell_type": "code",
   "execution_count": 1,
   "id": "a72363fb",
   "metadata": {},
   "outputs": [
    {
     "name": "stdout",
     "output_type": "stream",
     "text": [
      "The second largest number is: 9\n"
     ]
    }
   ],
   "source": [
    "def find_second_largest(numbers):\n",
    "    if len(numbers) < 2:\n",
    "        print(\"List should have at least two numbers.\")\n",
    "        return None\n",
    "\n",
    "    largest = float('-inf')  # Set initial largest value to negative infinity\n",
    "    second_largest = float('-inf')  # Set initial second largest value to negative infinity\n",
    "\n",
    "    for num in numbers:\n",
    "        if num > largest:\n",
    "            second_largest = largest\n",
    "            largest = num\n",
    "        elif num > second_largest and num != largest:\n",
    "            second_largest = num\n",
    "\n",
    "    if second_largest == float('-inf'):\n",
    "        print(\"There is no second largest element.\")\n",
    "        return None\n",
    "    else:\n",
    "        return second_largest\n",
    "\n",
    "\n",
    "# Example usage\n",
    "num_list = [9, 4, 5, 2, 10, 6, 8]\n",
    "second_largest = find_second_largest(num_list)\n",
    "if second_largest:\n",
    "    print(\"The second largest number is:\", second_largest)\n"
   ]
  },
  {
   "cell_type": "markdown",
   "id": "4dad6d68",
   "metadata": {},
   "source": [
    "6. Implement a function to remove duplicate elements from a list."
   ]
  },
  {
   "cell_type": "code",
   "execution_count": 2,
   "id": "2737d4a5",
   "metadata": {},
   "outputs": [
    {
     "name": "stdout",
     "output_type": "stream",
     "text": [
      "Original list: [1, 2, 3, 2, 4, 3, 5]\n",
      "List after removing duplicates: [1, 2, 3, 4, 5]\n"
     ]
    }
   ],
   "source": [
    "def remove_duplicates(lst):\n",
    "    return list(set(lst))\n",
    "\n",
    "# Example usage\n",
    "my_list = [1, 2, 3, 2, 4, 3, 5]\n",
    "unique_list = remove_duplicates(my_list)\n",
    "print(\"Original list:\", my_list)\n",
    "print(\"List after removing duplicates:\", unique_list)\n"
   ]
  },
  {
   "cell_type": "markdown",
   "id": "49377f93",
   "metadata": {},
   "source": [
    "7. Write a program to calculate the factorial of a given number.\n"
   ]
  },
  {
   "cell_type": "code",
   "execution_count": 3,
   "id": "6870a9d3",
   "metadata": {},
   "outputs": [
    {
     "name": "stdout",
     "output_type": "stream",
     "text": [
      "The factorial of 5 is: 120\n"
     ]
    }
   ],
   "source": [
    "def factorial(n):\n",
    "    if n < 0:\n",
    "        print(\"Factorial is not defined for negative numbers.\")\n",
    "        return None\n",
    "    elif n == 0 or n == 1:\n",
    "        return 1\n",
    "    else:\n",
    "        result = 1\n",
    "        for i in range(2, n + 1):\n",
    "            result *= i\n",
    "        return result\n",
    "\n",
    "\n",
    "# Example usage\n",
    "number = 5\n",
    "fact = factorial(number)\n",
    "if fact:\n",
    "    print(\"The factorial of\", number, \"is:\", fact)\n"
   ]
  },
  {
   "cell_type": "markdown",
   "id": "c63ebec6",
   "metadata": {},
   "source": [
    "8. Implement a function to check if a given number is prime.\n"
   ]
  },
  {
   "cell_type": "code",
   "execution_count": 4,
   "id": "5b937483",
   "metadata": {},
   "outputs": [
    {
     "name": "stdout",
     "output_type": "stream",
     "text": [
      "17 is a prime number.\n"
     ]
    }
   ],
   "source": [
    "def is_prime(n):\n",
    "    if n < 2:\n",
    "        return False\n",
    "    for i in range(2, int(n ** 0.5) + 1):\n",
    "        if n % i == 0:\n",
    "            return False\n",
    "    return True\n",
    "\n",
    "# Example usage\n",
    "number = 17\n",
    "if is_prime(number):\n",
    "    print(number, \"is a prime number.\")\n",
    "else:\n",
    "    print(number, \"is not a prime number.\")\n"
   ]
  },
  {
   "cell_type": "markdown",
   "id": "b36a95db",
   "metadata": {},
   "source": [
    "9. Write a Python program to sort a list of integers in ascending order.\n"
   ]
  },
  {
   "cell_type": "code",
   "execution_count": 5,
   "id": "994f1096",
   "metadata": {},
   "outputs": [
    {
     "name": "stdout",
     "output_type": "stream",
     "text": [
      "Original list: [9, 4, 7, 2, 1, 5]\n",
      "Sorted list (ascending order): [1, 2, 4, 5, 7, 9]\n"
     ]
    }
   ],
   "source": [
    "def sort_list_ascending(lst):\n",
    "    sorted_list = sorted(lst)\n",
    "    return sorted_list\n",
    "\n",
    "# Example usage\n",
    "my_list = [9, 4, 7, 2, 1, 5]\n",
    "sorted_list = sort_list_ascending(my_list)\n",
    "print(\"Original list:\", my_list)\n",
    "print(\"Sorted list (ascending order):\", sorted_list)\n"
   ]
  },
  {
   "cell_type": "markdown",
   "id": "0d4fdaa4",
   "metadata": {},
   "source": [
    "10. Implement a function to find the sum of all numbers in a list.\n"
   ]
  },
  {
   "cell_type": "code",
   "execution_count": 6,
   "id": "38438475",
   "metadata": {},
   "outputs": [
    {
     "name": "stdout",
     "output_type": "stream",
     "text": [
      "Sum of numbers: 15\n"
     ]
    }
   ],
   "source": [
    "def find_sum(numbers):\n",
    "    total = sum(numbers)\n",
    "    return total\n",
    "\n",
    "# Example usage\n",
    "num_list = [1, 2, 3, 4, 5]\n",
    "sum_of_numbers = find_sum(num_list)\n",
    "print(\"Sum of numbers:\", sum_of_numbers)\n"
   ]
  },
  {
   "cell_type": "markdown",
   "id": "e8561cae",
   "metadata": {},
   "source": [
    "11. Write a program to find the common elements between two lists."
   ]
  },
  {
   "cell_type": "code",
   "execution_count": 7,
   "id": "17702cff",
   "metadata": {},
   "outputs": [
    {
     "name": "stdout",
     "output_type": "stream",
     "text": [
      "List 1: [1, 2, 3, 4, 5]\n",
      "List 2: [4, 5, 6, 7, 8]\n",
      "Common elements: [4, 5]\n"
     ]
    }
   ],
   "source": [
    "def find_common_elements(list1, list2):\n",
    "    common_elements = list(set(list1) & set(list2))\n",
    "    return common_elements\n",
    "\n",
    "# Example usage\n",
    "list1 = [1, 2, 3, 4, 5]\n",
    "list2 = [4, 5, 6, 7, 8]\n",
    "common_elements = find_common_elements(list1, list2)\n",
    "print(\"List 1:\", list1)\n",
    "print(\"List 2:\", list2)\n",
    "print(\"Common elements:\", common_elements)\n"
   ]
  },
  {
   "cell_type": "markdown",
   "id": "96a3db9c",
   "metadata": {},
   "source": [
    "12. Implement a function to check if a given string is an anagram of another string"
   ]
  },
  {
   "cell_type": "code",
   "execution_count": 8,
   "id": "0ffb2b56",
   "metadata": {},
   "outputs": [
    {
     "name": "stdout",
     "output_type": "stream",
     "text": [
      "The strings listen and silent are anagrams.\n"
     ]
    }
   ],
   "source": [
    "def is_anagram(str1, str2):\n",
    "    sorted_str1 = sorted(str1.lower())\n",
    "    sorted_str2 = sorted(str2.lower())\n",
    "\n",
    "    return sorted_str1 == sorted_str2\n",
    "\n",
    "# Example usage\n",
    "string1 = \"listen\"\n",
    "string2 = \"silent\"\n",
    "\n",
    "if is_anagram(string1, string2):\n",
    "    print(\"The strings\", string1, \"and\", string2, \"are anagrams.\")\n",
    "else:\n",
    "    print(\"The strings\", string1, \"and\", string2, \"are not anagrams.\")\n"
   ]
  },
  {
   "cell_type": "markdown",
   "id": "6f54b410",
   "metadata": {},
   "source": [
    "13. Write a Python program to generate all permutations of a given string."
   ]
  },
  {
   "cell_type": "code",
   "execution_count": 9,
   "id": "339c43fa",
   "metadata": {},
   "outputs": [
    {
     "name": "stdout",
     "output_type": "stream",
     "text": [
      "Permutations of abc :\n",
      "abc\n",
      "acb\n",
      "bac\n",
      "bca\n",
      "cab\n",
      "cba\n"
     ]
    }
   ],
   "source": [
    "def generate_permutations(string):\n",
    "    # Base case: If the string has only one character, return it as a single-item list\n",
    "    if len(string) == 1:\n",
    "        return [string]\n",
    "\n",
    "    # Recursive case: Generate permutations by selecting each character as the first character\n",
    "    permutations = []\n",
    "    for i in range(len(string)):\n",
    "        first_char = string[i]\n",
    "        remaining_chars = string[:i] + string[i+1:]\n",
    "        sub_permutations = generate_permutations(remaining_chars)\n",
    "\n",
    "        # Add the selected character to each permutation of the remaining characters\n",
    "        for sub_permutation in sub_permutations:\n",
    "            permutations.append(first_char + sub_permutation)\n",
    "\n",
    "    return permutations\n",
    "\n",
    "# Example usage\n",
    "input_string = \"abc\"\n",
    "permutations = generate_permutations(input_string)\n",
    "\n",
    "print(\"Permutations of\", input_string, \":\")\n",
    "for permutation in permutations:\n",
    "    print(permutation)\n"
   ]
  },
  {
   "cell_type": "markdown",
   "id": "654018da",
   "metadata": {},
   "source": [
    "14. Implement a function to calculate the Fibonacci sequence up to a given number of terms."
   ]
  },
  {
   "cell_type": "code",
   "execution_count": 10,
   "id": "687e809f",
   "metadata": {},
   "outputs": [
    {
     "name": "stdout",
     "output_type": "stream",
     "text": [
      "Fibonacci sequence up to 10 terms:\n",
      "[0, 1, 1, 2, 3, 5, 8, 13, 21, 34]\n"
     ]
    }
   ],
   "source": [
    "def fibonacci_sequence(num_terms):\n",
    "    if num_terms <= 0:\n",
    "        print(\"Number of terms should be a positive integer.\")\n",
    "        return []\n",
    "\n",
    "    sequence = [0, 1]  # Initialize the sequence with the first two terms\n",
    "\n",
    "    while len(sequence) < num_terms:\n",
    "        next_term = sequence[-1] + sequence[-2]\n",
    "        sequence.append(next_term)\n",
    "\n",
    "    return sequence\n",
    "\n",
    "# Example usage\n",
    "terms = 10\n",
    "fibonacci_terms = fibonacci_sequence(terms)\n",
    "print(\"Fibonacci sequence up to\", terms, \"terms:\")\n",
    "print(fibonacci_terms)\n"
   ]
  },
  {
   "cell_type": "markdown",
   "id": "cbe20a31",
   "metadata": {},
   "source": [
    "15. Write a program to find the median of a list of numbers.\n"
   ]
  },
  {
   "cell_type": "code",
   "execution_count": 11,
   "id": "9a4923d1",
   "metadata": {},
   "outputs": [
    {
     "name": "stdout",
     "output_type": "stream",
     "text": [
      "List: [5, 2, 1, 4, 3]\n",
      "Median: 3\n"
     ]
    }
   ],
   "source": [
    "def find_median(numbers):\n",
    "    sorted_numbers = sorted(numbers)\n",
    "    n = len(sorted_numbers)\n",
    "    middle_index = n // 2\n",
    "\n",
    "    if n % 2 == 0:\n",
    "        # If the list has an even number of elements, average the middle two elements\n",
    "        median = (sorted_numbers[middle_index - 1] + sorted_numbers[middle_index]) / 2\n",
    "    else:\n",
    "        # If the list has an odd number of elements, take the middle element\n",
    "        median = sorted_numbers[middle_index]\n",
    "\n",
    "    return median\n",
    "\n",
    "# Example usage\n",
    "num_list = [5, 2, 1, 4, 3]\n",
    "median = find_median(num_list)\n",
    "print(\"List:\", num_list)\n",
    "print(\"Median:\", median)\n"
   ]
  },
  {
   "cell_type": "markdown",
   "id": "b0371a8b",
   "metadata": {},
   "source": [
    "16. Implement a function to check if a given list is sorted in non-decreasing order.\n"
   ]
  },
  {
   "cell_type": "code",
   "execution_count": 12,
   "id": "27d04bae",
   "metadata": {},
   "outputs": [
    {
     "name": "stdout",
     "output_type": "stream",
     "text": [
      "The list is sorted in non-decreasing order.\n"
     ]
    }
   ],
   "source": [
    "def is_sorted(numbers):\n",
    "    return all(numbers[i] <= numbers[i+1] for i in range(len(numbers)-1))\n",
    "\n",
    "# Example usage\n",
    "num_list = [1, 2, 3, 4, 5]\n",
    "if is_sorted(num_list):\n",
    "    print(\"The list is sorted in non-decreasing order.\")\n",
    "else:\n",
    "    print(\"The list is not sorted in non-decreasing order.\")\n"
   ]
  },
  {
   "cell_type": "markdown",
   "id": "75914556",
   "metadata": {},
   "source": [
    "17. Write a Python program to find the intersection of two lists.\n"
   ]
  },
  {
   "cell_type": "code",
   "execution_count": 13,
   "id": "2ac1a6db",
   "metadata": {},
   "outputs": [
    {
     "name": "stdout",
     "output_type": "stream",
     "text": [
      "List 1: [1, 2, 3, 4, 5]\n",
      "List 2: [4, 5, 6, 7, 8]\n",
      "Intersection: [4, 5]\n"
     ]
    }
   ],
   "source": [
    "def find_intersection(list1, list2):\n",
    "    intersection = list(set(list1) & set(list2))\n",
    "    return intersection\n",
    "\n",
    "# Example usage\n",
    "list1 = [1, 2, 3, 4, 5]\n",
    "list2 = [4, 5, 6, 7, 8]\n",
    "intersection = find_intersection(list1, list2)\n",
    "print(\"List 1:\", list1)\n",
    "print(\"List 2:\", list2)\n",
    "print(\"Intersection:\", intersection)\n"
   ]
  },
  {
   "cell_type": "markdown",
   "id": "3fa645de",
   "metadata": {},
   "source": [
    "18. Implement a function to find the maximum subarray sum in a given list."
   ]
  },
  {
   "cell_type": "code",
   "execution_count": 14,
   "id": "2730df50",
   "metadata": {},
   "outputs": [
    {
     "name": "stdout",
     "output_type": "stream",
     "text": [
      "List: [-2, 1, -3, 4, -1, 2, 1, -5, 4]\n",
      "Maximum Subarray Sum: 6\n"
     ]
    }
   ],
   "source": [
    "def find_maximum_subarray_sum(numbers):\n",
    "    if not numbers:\n",
    "        return 0\n",
    "\n",
    "    max_sum = float('-inf')\n",
    "    current_sum = 0\n",
    "\n",
    "    for num in numbers:\n",
    "        current_sum += num\n",
    "        if current_sum > max_sum:\n",
    "            max_sum = current_sum\n",
    "        if current_sum < 0:\n",
    "            current_sum = 0\n",
    "\n",
    "    return max_sum\n",
    "\n",
    "# Example usage\n",
    "num_list = [-2, 1, -3, 4, -1, 2, 1, -5, 4]\n",
    "max_subarray_sum = find_maximum_subarray_sum(num_list)\n",
    "print(\"List:\", num_list)\n",
    "print(\"Maximum Subarray Sum:\", max_subarray_sum)\n"
   ]
  },
  {
   "cell_type": "markdown",
   "id": "27d7583f",
   "metadata": {},
   "source": [
    "19. Write a program to remove all vowels from a given string.\n"
   ]
  },
  {
   "cell_type": "code",
   "execution_count": 15,
   "id": "df2b6856",
   "metadata": {},
   "outputs": [
    {
     "name": "stdout",
     "output_type": "stream",
     "text": [
      "Ths s  strng wth vwls.\n"
     ]
    }
   ],
   "source": [
    "def remove_vowels(string):\n",
    "  \"\"\"Removes all vowels from a given string.\n",
    "\n",
    "  Args:\n",
    "    string: The string to remove vowels from.\n",
    "\n",
    "  Returns:\n",
    "    The string with all vowels removed.\n",
    "  \"\"\"\n",
    "\n",
    "  vowels = \"aeiouAEIOU\"\n",
    "  new_string = \"\"\n",
    "  for char in string:\n",
    "    if char not in vowels:\n",
    "      new_string += char\n",
    "  return new_string\n",
    "\n",
    "\n",
    "if __name__ == \"__main__\":\n",
    "  string = \"This is a string with vowels.\"\n",
    "  new_string = remove_vowels(string)\n",
    "  print(new_string)\n"
   ]
  },
  {
   "cell_type": "markdown",
   "id": "7ae3af46",
   "metadata": {},
   "source": [
    "20. Implement a function to reverse the order of words in a given sentence."
   ]
  },
  {
   "cell_type": "code",
   "execution_count": 16,
   "id": "6ccea70d",
   "metadata": {},
   "outputs": [
    {
     "name": "stdout",
     "output_type": "stream",
     "text": [
      "Original sentence: Hello, world! This is a sentence.\n",
      "Reversed sentence: sentence. a is This world! Hello,\n"
     ]
    }
   ],
   "source": [
    "def reverse_words(sentence):\n",
    "    words = sentence.split()\n",
    "    reversed_words = ' '.join(reversed(words))\n",
    "    return reversed_words\n",
    "\n",
    "# Example usage\n",
    "input_sentence = \"Hello, world! This is a sentence.\"\n",
    "reversed_sentence = reverse_words(input_sentence)\n",
    "print(\"Original sentence:\", input_sentence)\n",
    "print(\"Reversed sentence:\", reversed_sentence)\n"
   ]
  },
  {
   "cell_type": "markdown",
   "id": "3231e9ab",
   "metadata": {},
   "source": [
    "21. Write a Python program to check if two strings are anagrams of each other."
   ]
  },
  {
   "cell_type": "code",
   "execution_count": 17,
   "id": "ea683179",
   "metadata": {},
   "outputs": [
    {
     "name": "stdout",
     "output_type": "stream",
     "text": [
      "True\n"
     ]
    }
   ],
   "source": [
    "def is_anagram(string1, string2):\n",
    "\n",
    "\n",
    "  if len(string1) != len(string2):\n",
    "    return False\n",
    "\n",
    "  char_counts = {}\n",
    "  for char in string1:\n",
    "    if char in char_counts:\n",
    "      char_counts[char] += 1\n",
    "    else:\n",
    "      char_counts[char] = 1\n",
    "\n",
    "  for char in string2:\n",
    "    if char not in char_counts:\n",
    "      return False\n",
    "    else:\n",
    "      char_counts[char] -= 1\n",
    "\n",
    "  for count in char_counts.values():\n",
    "    if count != 0:\n",
    "      return False\n",
    "\n",
    "  return True\n",
    "\n",
    "\n",
    "if __name__ == \"__main__\":\n",
    "  string1 = \"anagram\"\n",
    "  string2 = \"nagaram\"\n",
    "  print(is_anagram(string1, string2))\n"
   ]
  },
  {
   "cell_type": "markdown",
   "id": "06cb281c",
   "metadata": {},
   "source": [
    "22. Implement a function to find the first non-repeating character in a string."
   ]
  },
  {
   "cell_type": "code",
   "execution_count": 19,
   "id": "fd75b994",
   "metadata": {},
   "outputs": [
    {
     "name": "stdout",
     "output_type": "stream",
     "text": [
      "The first non-repeating character in the string is: c\n"
     ]
    }
   ],
   "source": [
    "def find_first_non_repeating_char(string):\n",
    "    char_count = {}\n",
    "  \n",
    "    # Count the occurrences of each character\n",
    "    for char in string:\n",
    "        char_count[char] = char_count.get(char, 0) + 1\n",
    "\n",
    "    # Find the first non-repeating character\n",
    "    for char in string:\n",
    "        if char_count[char] == 1:\n",
    "            return char\n",
    "\n",
    "    return None\n",
    "\n",
    "# Example usage\n",
    "input_string = \"aabbcdef\"\n",
    "first_non_repeating_char = find_first_non_repeating_char(input_string)\n",
    "if first_non_repeating_char:\n",
    "    print(\"The first non-repeating character in the string is:\", first_non_repeating_char)\n",
    "else:\n",
    "    print(\"There are no non-repeating characters in the string.\")\n"
   ]
  },
  {
   "cell_type": "markdown",
   "id": "8f79349e",
   "metadata": {},
   "source": [
    "23. Write a program to find the prime factors of a given number.\n"
   ]
  },
  {
   "cell_type": "code",
   "execution_count": 18,
   "id": "a6750d94",
   "metadata": {},
   "outputs": [
    {
     "name": "stdout",
     "output_type": "stream",
     "text": [
      "[2, 2, 3]\n"
     ]
    }
   ],
   "source": [
    "def prime_factors(number):\n",
    "  \"\"\"Finds the prime factors of a given number.\n",
    "\n",
    "  Args:\n",
    "    number: The number to find the prime factors of.\n",
    "\n",
    "  Returns:\n",
    "    A list of the prime factors of the number.\n",
    "  \"\"\"\n",
    "\n",
    "  factors = []\n",
    "  for i in range(2, number + 1):\n",
    "    while number % i == 0:\n",
    "      factors.append(i)\n",
    "      number //= i\n",
    "  return factors\n",
    "\n",
    "\n",
    "if __name__ == \"__main__\":\n",
    "  number = 12\n",
    "  factors = prime_factors(number)\n",
    "  print(factors)\n"
   ]
  },
  {
   "cell_type": "markdown",
   "id": "8aaf1b42",
   "metadata": {},
   "source": [
    "24. Implement a function to check if a given number is a power of two."
   ]
  },
  {
   "cell_type": "code",
   "execution_count": 20,
   "id": "dd8eb81a",
   "metadata": {},
   "outputs": [
    {
     "name": "stdout",
     "output_type": "stream",
     "text": [
      "16 is a power of two.\n"
     ]
    }
   ],
   "source": [
    "def is_power_of_two(n):\n",
    "    if n <= 0:\n",
    "        return False\n",
    "    return (n & (n - 1)) == 0\n",
    "\n",
    "# Example usage\n",
    "number = 16\n",
    "if is_power_of_two(number):\n",
    "    print(number, \"is a power of two.\")\n",
    "else:\n",
    "    print(number, \"is not a power of two.\")\n"
   ]
  },
  {
   "cell_type": "markdown",
   "id": "295e523a",
   "metadata": {},
   "source": [
    "25. Write a Python program to merge two sorted lists into a single sorted list."
   ]
  },
  {
   "cell_type": "code",
   "execution_count": 21,
   "id": "49ad289a",
   "metadata": {},
   "outputs": [
    {
     "name": "stdout",
     "output_type": "stream",
     "text": [
      "[1, 2, 3, 4, 5, 6, 7, 8, 9, 10]\n"
     ]
    }
   ],
   "source": [
    "def merge_sorted_lists(list1, list2):\n",
    " \n",
    "\n",
    "  merged_list = []\n",
    "  i = 0\n",
    "  j = 0\n",
    "  while i < len(list1) and j < len(list2):\n",
    "    if list1[i] <= list2[j]:\n",
    "      merged_list.append(list1[i])\n",
    "      i += 1\n",
    "    else:\n",
    "      merged_list.append(list2[j])\n",
    "      j += 1\n",
    "\n",
    "  merged_list += list1[i:]\n",
    "  merged_list += list2[j:]\n",
    "\n",
    "  return merged_list\n",
    "\n",
    "\n",
    "if __name__ == \"__main__\":\n",
    "  list1 = [1, 3, 5, 7, 9]\n",
    "  list2 = [2, 4, 6, 8, 10]\n",
    "  merged_list = merge_sorted_lists(list1, list2)\n",
    "  print(merged_list)\n"
   ]
  },
  {
   "cell_type": "markdown",
   "id": "ecec5196",
   "metadata": {},
   "source": [
    "26. Implement a function to find the mode of a list of numbers.\n"
   ]
  },
  {
   "cell_type": "code",
   "execution_count": 22,
   "id": "2242807f",
   "metadata": {},
   "outputs": [
    {
     "name": "stdout",
     "output_type": "stream",
     "text": [
      "List: [1, 2, 3, 2, 4, 3, 5, 5, 5]\n",
      "Mode(s): [5]\n"
     ]
    }
   ],
   "source": [
    "from collections import Counter\n",
    "\n",
    "def find_mode(numbers):\n",
    "    counts = Counter(numbers)\n",
    "    max_count = max(counts.values())\n",
    "    modes = [num for num, count in counts.items() if count == max_count]\n",
    "    return modes\n",
    "\n",
    "# Example usage\n",
    "num_list = [1, 2, 3, 2, 4, 3, 5, 5, 5]\n",
    "modes = find_mode(num_list)\n",
    "print(\"List:\", num_list)\n",
    "print(\"Mode(s):\", modes)\n"
   ]
  },
  {
   "cell_type": "markdown",
   "id": "43421bcb",
   "metadata": {},
   "source": [
    "27. Write a program to find the greatest common divisor (GCD) of two numbers."
   ]
  },
  {
   "cell_type": "code",
   "execution_count": 23,
   "id": "c4d5eda3",
   "metadata": {},
   "outputs": [
    {
     "name": "stdout",
     "output_type": "stream",
     "text": [
      "6\n"
     ]
    }
   ],
   "source": [
    "def gcd(number1, number2):\n",
    " \n",
    "\n",
    "  if number1 < number2:\n",
    "    smaller_number = number1\n",
    "    larger_number = number2\n",
    "  else:\n",
    "    smaller_number = number2\n",
    "    larger_number = number1\n",
    "\n",
    "  while smaller_number != 0:\n",
    "     remainder = larger_number % smaller_number\n",
    "     larger_number = smaller_number\n",
    "     smaller_number = remainder\n",
    "\n",
    "  return larger_number\n",
    "\n",
    "\n",
    "if __name__ == \"__main__\":\n",
    "  number1 = 12\n",
    "  number2 = 18\n",
    "  gcd_of_numbers = gcd(number1, number2)\n",
    "  print(gcd_of_numbers)\n"
   ]
  },
  {
   "cell_type": "markdown",
   "id": "0a724efb",
   "metadata": {},
   "source": [
    "28. Implement a function to calculate the square root of a given number.\n"
   ]
  },
  {
   "cell_type": "code",
   "execution_count": 24,
   "id": "9575c347",
   "metadata": {},
   "outputs": [
    {
     "name": "stdout",
     "output_type": "stream",
     "text": [
      "The square root of 25 is: 5.000000000016778\n"
     ]
    }
   ],
   "source": [
    "def calculate_square_root(number):\n",
    "    if number < 0:\n",
    "        return None\n",
    "\n",
    "    guess = number / 2  # Initial guess\n",
    "    epsilon = 1e-7  # Small value for desired precision\n",
    "\n",
    "    while abs(guess**2 - number) > epsilon:\n",
    "        guess = (guess + number / guess) / 2\n",
    "\n",
    "    return guess\n",
    "\n",
    "# Example usage\n",
    "number = 25\n",
    "square_root = calculate_square_root(number)\n",
    "if square_root is not None:\n",
    "    print(\"The square root of\", number, \"is:\", square_root)\n",
    "else:\n",
    "    print(\"Cannot calculate square root for negative numbers.\")\n"
   ]
  },
  {
   "cell_type": "markdown",
   "id": "d9cc74e2",
   "metadata": {},
   "source": [
    "29. Write a Python program to check if a given string is a valid palindrome ignoring non-alphanumeric characters."
   ]
  },
  {
   "cell_type": "code",
   "execution_count": 25,
   "id": "0cf3e8e3",
   "metadata": {},
   "outputs": [
    {
     "name": "stdout",
     "output_type": "stream",
     "text": [
      "True\n"
     ]
    }
   ],
   "source": [
    "def is_palindrome(string):\n",
    "  \"\"\"Checks if a given string is a valid palindrome ignoring spaces and punctuation.\n",
    "\n",
    "  Args:\n",
    "    string: The string to check.\n",
    "\n",
    "  Returns:\n",
    "    True if the string is a palindrome, False otherwise.\n",
    "  \"\"\"\n",
    "\n",
    "  new_string = \"\".join([x for x in string.lower() if x.isalnum()])\n",
    "  reversed_string = new_string[::-1]\n",
    "  return new_string == reversed_string\n",
    "\n",
    "\n",
    "if __name__ == \"__main__\":\n",
    "  string = \"Madam, I'm Adam\"\n",
    "  print(is_palindrome(string))\n"
   ]
  },
  {
   "cell_type": "markdown",
   "id": "46b5e916",
   "metadata": {},
   "source": [
    "30. Implement a function to find the minimum element in a rotated sorted list.\n"
   ]
  },
  {
   "cell_type": "code",
   "execution_count": 26,
   "id": "676adc80",
   "metadata": {},
   "outputs": [
    {
     "name": "stdout",
     "output_type": "stream",
     "text": [
      "Rotated List: [5, 6, 7, 8, 9, 1, 2, 3, 4]\n",
      "Minimum Element: 1\n"
     ]
    }
   ],
   "source": [
    "def find_minimum(rotated_list):\n",
    "    left = 0\n",
    "    right = len(rotated_list) - 1\n",
    "\n",
    "    while left < right:\n",
    "        mid = (left + right) // 2\n",
    "\n",
    "        if rotated_list[mid] > rotated_list[right]:\n",
    "            left = mid + 1\n",
    "        else:\n",
    "            right = mid\n",
    "\n",
    "    return rotated_list[left]\n",
    "\n",
    "# Example usage\n",
    "rotated = [5, 6, 7, 8, 9, 1, 2, 3, 4]\n",
    "minimum = find_minimum(rotated)\n",
    "print(\"Rotated List:\", rotated)\n",
    "print(\"Minimum Element:\", minimum)\n"
   ]
  },
  {
   "cell_type": "markdown",
   "id": "35f34968",
   "metadata": {},
   "source": [
    "31. Write a program to find the sum of all even numbers in a list."
   ]
  },
  {
   "cell_type": "code",
   "execution_count": 27,
   "id": "c423b342",
   "metadata": {},
   "outputs": [
    {
     "name": "stdout",
     "output_type": "stream",
     "text": [
      "30\n"
     ]
    }
   ],
   "source": [
    "def sum_of_even_numbers(list_of_numbers):\n",
    "  \"\"\"Finds the sum of all even numbers in a list.\n",
    "\n",
    "  Args:\n",
    "    list_of_numbers: The list of numbers to find the sum of.\n",
    "\n",
    "  Returns:\n",
    "    The sum of all even numbers in the list.\n",
    "  \"\"\"\n",
    "\n",
    "  sum_of_even_numbers = 0\n",
    "  for number in list_of_numbers:\n",
    "    if number % 2 == 0:\n",
    "      sum_of_even_numbers += number\n",
    "  return sum_of_even_numbers\n",
    "\n",
    "\n",
    "if __name__ == \"__main__\":\n",
    "  list_of_numbers = [1, 2, 3, 4, 5, 6, 7, 8, 9, 10]\n",
    "  sum_of_even_numbers = sum_of_even_numbers(list_of_numbers)\n",
    "  print(sum_of_even_numbers)\n"
   ]
  },
  {
   "cell_type": "markdown",
   "id": "c295bfab",
   "metadata": {},
   "source": [
    "32. Implement a function to calculate the power of a number using recursion.\n"
   ]
  },
  {
   "cell_type": "code",
   "execution_count": 29,
   "id": "cf163e3c",
   "metadata": {},
   "outputs": [
    {
     "name": "stdout",
     "output_type": "stream",
     "text": [
      "2 raised to the power of 3 is: 8\n"
     ]
    }
   ],
   "source": [
    "def power(base, exponent):\n",
    "    if exponent == 0:\n",
    "        return 1\n",
    "    elif exponent > 0:\n",
    "        return base * power(base, exponent - 1)\n",
    "    else:\n",
    "        return 1 / (base * power(base, -exponent - 1))\n",
    "\n",
    "# Example usage\n",
    "base = 2\n",
    "exponent = 3\n",
    "result = power(base, exponent)\n",
    "print(base, \"raised to the power of\", exponent, \"is:\", result)\n"
   ]
  },
  {
   "cell_type": "markdown",
   "id": "88843a23",
   "metadata": {},
   "source": [
    "33. Write a Python program to remove duplicates from a list while preserving the order."
   ]
  },
  {
   "cell_type": "code",
   "execution_count": 28,
   "id": "c2ffbc64",
   "metadata": {},
   "outputs": [
    {
     "name": "stdout",
     "output_type": "stream",
     "text": [
      "[1, 2, 3, 4, 5, 6, 7]\n"
     ]
    }
   ],
   "source": [
    "def remove_duplicates(list_of_numbers):\n",
    "  \"\"\"Removes duplicates from a list while preserving the order.\n",
    "\n",
    "  Args:\n",
    "    list_of_numbers: The list of numbers to remove duplicates from.\n",
    "\n",
    "  Returns:\n",
    "    A new list without duplicates.\n",
    "  \"\"\"\n",
    "\n",
    "  new_list = []\n",
    "  seen_numbers = set()\n",
    "  for number in list_of_numbers:\n",
    "    if number not in seen_numbers:\n",
    "      new_list.append(number)\n",
    "      seen_numbers.add(number)\n",
    "  return new_list\n",
    "\n",
    "\n",
    "if __name__ == \"__main__\":\n",
    "  list_of_numbers = [1, 2, 3, 4, 5, 1, 2, 3, 6, 7]\n",
    "  new_list = remove_duplicates(list_of_numbers)\n",
    "  print(new_list)\n"
   ]
  },
  {
   "cell_type": "markdown",
   "id": "d7b12c08",
   "metadata": {},
   "source": [
    "34. Implement a function to find the longest common prefix among a list of strings.\n"
   ]
  },
  {
   "cell_type": "code",
   "execution_count": 30,
   "id": "b7a06b30",
   "metadata": {},
   "outputs": [
    {
     "name": "stdout",
     "output_type": "stream",
     "text": [
      "hello\n"
     ]
    }
   ],
   "source": [
    "def longest_common_prefix(list_of_strings):\n",
    "  \"\"\"Finds the longest common prefix among a list of strings.\n",
    "\n",
    "  Args:\n",
    "    list_of_strings: The list of strings to find the longest common prefix of.\n",
    "\n",
    "  Returns:\n",
    "    The longest common prefix of the list of strings.\n",
    "  \"\"\"\n",
    "\n",
    "  if not list_of_strings:\n",
    "    return \"\"\n",
    "\n",
    "  prefix = list_of_strings[0]\n",
    "  for string in list_of_strings[1:]:\n",
    "    while not string.startswith(prefix):\n",
    "      prefix = prefix[:-1]\n",
    "    if not prefix:\n",
    "      return \"\"\n",
    "  return prefix\n",
    "\n",
    "\n",
    "if __name__ == \"__main__\":\n",
    "  list_of_strings = [\"hello\", \"helloworld\", \"hellothere\"]\n",
    "  longest_common_prefix = longest_common_prefix(list_of_strings)\n",
    "  print(longest_common_prefix)\n"
   ]
  },
  {
   "cell_type": "markdown",
   "id": "6eff1153",
   "metadata": {},
   "source": [
    "35. Write a program to check if a given number is a perfect square.\n"
   ]
  },
  {
   "cell_type": "code",
   "execution_count": 31,
   "id": "17942201",
   "metadata": {},
   "outputs": [
    {
     "name": "stdout",
     "output_type": "stream",
     "text": [
      "True\n"
     ]
    }
   ],
   "source": [
    "def is_perfect_square(number):\n",
    "  \"\"\"Checks if a given number is a perfect square.\n",
    "\n",
    "  Args:\n",
    "    number: The number to check.\n",
    "\n",
    "  Returns:\n",
    "    True if the number is a perfect square, False otherwise.\n",
    "  \"\"\"\n",
    "\n",
    "  if number < 1:\n",
    "    return False\n",
    "\n",
    "  for i in range(1, number + 1):\n",
    "    if i * i == number:\n",
    "      return True\n",
    "  return False\n",
    "\n",
    "\n",
    "if __name__ == \"__main__\":\n",
    "  number = 16\n",
    "  is_perfect_square = is_perfect_square(number)\n",
    "  print(is_perfect_square)\n"
   ]
  },
  {
   "cell_type": "markdown",
   "id": "0ad8c477",
   "metadata": {},
   "source": [
    "36. Implement a function to calculate the product of all elements in a list.\n"
   ]
  },
  {
   "cell_type": "code",
   "execution_count": 32,
   "id": "32b721bb",
   "metadata": {},
   "outputs": [
    {
     "name": "stdout",
     "output_type": "stream",
     "text": [
      "120\n"
     ]
    }
   ],
   "source": [
    "def product_of_list(list_of_numbers):\n",
    "  \"\"\"Calculates the product of all elements in a list.\n",
    "\n",
    "  Args:\n",
    "    list_of_numbers: The list of numbers to calculate the product of.\n",
    "\n",
    "  Returns:\n",
    "    The product of all elements in the list.\n",
    "  \"\"\"\n",
    "\n",
    "  product = 1\n",
    "  for number in list_of_numbers:\n",
    "    product *= number\n",
    "  return product\n",
    "\n",
    "\n",
    "if __name__ == \"__main__\":\n",
    "  list_of_numbers = [1, 2, 3, 4, 5]\n",
    "  product_of_numbers = product_of_list(list_of_numbers)\n",
    "  print(product_of_numbers)\n"
   ]
  },
  {
   "cell_type": "markdown",
   "id": "3fe33bfe",
   "metadata": {},
   "source": [
    "37. Write a Python program to reverse the order of words in a sentence while preserving the word order.\n"
   ]
  },
  {
   "cell_type": "code",
   "execution_count": 33,
   "id": "1341bea0",
   "metadata": {},
   "outputs": [
    {
     "name": "stdout",
     "output_type": "stream",
     "text": [
      "Original sentence: Hello, world! This is a sentence.\n",
      "Reversed sentence: sentence. a is This world! Hello,\n"
     ]
    }
   ],
   "source": [
    "def reverse_sentence(sentence):\n",
    "    words = sentence.split()\n",
    "    reversed_words = ' '.join(reversed(words))\n",
    "    return reversed_words\n",
    "\n",
    "# Example usage\n",
    "input_sentence = \"Hello, world! This is a sentence.\"\n",
    "reversed_sentence = reverse_sentence(input_sentence)\n",
    "print(\"Original sentence:\", input_sentence)\n",
    "print(\"Reversed sentence:\", reversed_sentence)\n"
   ]
  },
  {
   "cell_type": "markdown",
   "id": "2e933a51",
   "metadata": {},
   "source": [
    "38. Implement a function to find the missing number in a given list of consecutive numbers."
   ]
  },
  {
   "cell_type": "code",
   "execution_count": 34,
   "id": "1711c4f6",
   "metadata": {},
   "outputs": [
    {
     "name": "stdout",
     "output_type": "stream",
     "text": [
      "7\n"
     ]
    }
   ],
   "source": [
    "def find_missing_number(list_of_numbers):\n",
    "  \"\"\"Finds the missing number in a given list of consecutive numbers.\n",
    "\n",
    "  Args:\n",
    "    list_of_numbers: The list of numbers to find the missing number in.\n",
    "\n",
    "  Returns:\n",
    "    The missing number.\n",
    "  \"\"\"\n",
    "\n",
    "  if len(list_of_numbers) == 0:\n",
    "    return -1\n",
    "\n",
    "  first_number = list_of_numbers[0]\n",
    "  last_number = list_of_numbers[-1]\n",
    "  expected_sum = first_number + (last_number - first_number) * (len(list_of_numbers) - 1)\n",
    "  actual_sum = sum(list_of_numbers)\n",
    "  missing_number = expected_sum - actual_sum\n",
    "  return missing_number\n",
    "\n",
    "\n",
    "if __name__ == \"__main__\":\n",
    "  list_of_numbers = [1, 2, 3, 5, 6, 7]\n",
    "  missing_number = find_missing_number(list_of_numbers)\n",
    "  print(missing_number)\n"
   ]
  },
  {
   "cell_type": "markdown",
   "id": "8391d4e7",
   "metadata": {},
   "source": [
    "39. Write a program to find the sum of digits of a given number.\n"
   ]
  },
  {
   "cell_type": "code",
   "execution_count": 35,
   "id": "6b71c4c4",
   "metadata": {},
   "outputs": [
    {
     "name": "stdout",
     "output_type": "stream",
     "text": [
      "Number: 12345\n",
      "Sum of Digits: 15\n"
     ]
    }
   ],
   "source": [
    "def sum_of_digits(number):\n",
    "    sum = 0\n",
    "    while number > 0:\n",
    "        digit = number % 10\n",
    "        sum += digit\n",
    "        number //= 10\n",
    "    return sum\n",
    "\n",
    "# Example usage\n",
    "num = 12345\n",
    "digit_sum = sum_of_digits(num)\n",
    "print(\"Number:\", num)\n",
    "print(\"Sum of Digits:\", digit_sum)\n"
   ]
  },
  {
   "cell_type": "markdown",
   "id": "f29d338d",
   "metadata": {},
   "source": [
    "40. Implement a function to check if a given string is a valid palindrome considering case sensitivity."
   ]
  },
  {
   "cell_type": "code",
   "execution_count": 36,
   "id": "82b390a1",
   "metadata": {},
   "outputs": [
    {
     "name": "stdout",
     "output_type": "stream",
     "text": [
      "False\n"
     ]
    }
   ],
   "source": [
    "def is_palindrome(string):\n",
    "  \"\"\"Checks if a given string is a valid palindrome considering case sensitivity.\n",
    "\n",
    "  Args:\n",
    "    string: The string to check.\n",
    "\n",
    "  Returns:\n",
    "    True if the string is a palindrome, False otherwise.\n",
    "  \"\"\"\n",
    "\n",
    "  reversed_string = \"\"\n",
    "  for character in string:\n",
    "    reversed_string += character.lower()\n",
    "    reversed_string = reversed_string[::-1]\n",
    "\n",
    "  return string == reversed_string\n",
    "\n",
    "\n",
    "if __name__ == \"__main__\":\n",
    "  string = \"Madam, I'm Adam\"\n",
    "  is_palindrome = is_palindrome(string)\n",
    "  print(is_palindrome)\n"
   ]
  },
  {
   "cell_type": "markdown",
   "id": "4dc961fe",
   "metadata": {},
   "source": [
    "41. Write a Python program to find the smallest missing positive integer in a list."
   ]
  },
  {
   "cell_type": "code",
   "execution_count": 37,
   "id": "3196d394",
   "metadata": {},
   "outputs": [
    {
     "name": "stdout",
     "output_type": "stream",
     "text": [
      "List: [1, -1, 3, 4]\n",
      "Smallest missing positive integer: 2\n"
     ]
    }
   ],
   "source": [
    "def find_smallest_missing_positive(nums):\n",
    "    n = len(nums)\n",
    "\n",
    "    # Step 1: Move all positive numbers to the left\n",
    "    i = 0\n",
    "    while i < n:\n",
    "        if 1 <= nums[i] <= n and nums[i] != nums[nums[i] - 1]:\n",
    "            nums[nums[i] - 1], nums[i] = nums[i], nums[nums[i] - 1]\n",
    "        else:\n",
    "            i += 1\n",
    "\n",
    "    # Step 2: Find the first index where the number is not equal to its index + 1\n",
    "    for i in range(n):\n",
    "        if nums[i] != i + 1:\n",
    "            return i + 1\n",
    "\n",
    "    # Step 3: If all numbers from 1 to n are present, return n + 1\n",
    "    return n + 1\n",
    "\n",
    "# Example usage\n",
    "num_list = [3, 4, -1, 1]\n",
    "smallest_missing = find_smallest_missing_positive(num_list)\n",
    "print(\"List:\", num_list)\n",
    "print(\"Smallest missing positive integer:\", smallest_missing)\n"
   ]
  },
  {
   "cell_type": "markdown",
   "id": "777b90e2",
   "metadata": {},
   "source": [
    "42. Implement a function to find the longest palindrome substring in a given string."
   ]
  },
  {
   "cell_type": "code",
   "execution_count": 38,
   "id": "42bebe92",
   "metadata": {},
   "outputs": [
    {
     "name": "stdout",
     "output_type": "stream",
     "text": [
      "ada\n"
     ]
    }
   ],
   "source": [
    "def longest_palindrome_substring(string):\n",
    "  \n",
    "\n",
    "  longest_palindrome = \"\"\n",
    "  for i in range(len(string)):\n",
    "    for j in range(len(string)):\n",
    "      if string[i:j + 1] == string[i:j + 1][::-1] and len(string[i:j + 1]) > len(longest_palindrome):\n",
    "        longest_palindrome = string[i:j + 1]\n",
    "  return longest_palindrome\n",
    "\n",
    "\n",
    "if __name__ == \"__main__\":\n",
    "  string = \"Madam, I'm Adam\"\n",
    "  longest_palindrome = longest_palindrome_substring(string)\n",
    "  print(longest_palindrome)\n"
   ]
  },
  {
   "cell_type": "markdown",
   "id": "899e1690",
   "metadata": {},
   "source": [
    "43. Write a program to find the number of occurrences of a given element in a list"
   ]
  },
  {
   "cell_type": "code",
   "execution_count": 40,
   "id": "1f63889f",
   "metadata": {},
   "outputs": [
    {
     "name": "stdout",
     "output_type": "stream",
     "text": [
      "List: [1, 2, 3, 2, 4, 2, 5, 2]\n",
      "Target element: 2\n",
      "Number of occurrences: 4\n"
     ]
    }
   ],
   "source": [
    "def count_occurrences(lst, target):\n",
    "    count = 0\n",
    "    for element in lst:\n",
    "        if element == target:\n",
    "            count += 1\n",
    "    return count\n",
    "\n",
    "# Example usage\n",
    "num_list = [1, 2, 3, 2, 4, 2, 5, 2]\n",
    "target_element = 2\n",
    "occurrences = count_occurrences(num_list, target_element)\n",
    "print(\"List:\", num_list)\n",
    "print(\"Target element:\", target_element)\n",
    "print(\"Number of occurrences:\", occurrences)\n"
   ]
  },
  {
   "cell_type": "markdown",
   "id": "b3c41577",
   "metadata": {},
   "source": [
    "44. Implement a function to check if a given number is a perfect number.\n"
   ]
  },
  {
   "cell_type": "code",
   "execution_count": 39,
   "id": "65821f47",
   "metadata": {},
   "outputs": [
    {
     "name": "stdout",
     "output_type": "stream",
     "text": [
      "True\n"
     ]
    }
   ],
   "source": [
    "def is_perfect_number(number):\n",
    "  \"\"\"Checks if a given number is a perfect number.\n",
    "\n",
    "  Args:\n",
    "    number: The number to check.\n",
    "\n",
    "  Returns:\n",
    "    True if the number is a perfect number, False otherwise.\n",
    "  \"\"\"\n",
    "\n",
    "  if number < 1:\n",
    "    return False\n",
    "\n",
    "  sum_of_factors = 1\n",
    "  for factor in range(2, number):\n",
    "    if number % factor == 0:\n",
    "      sum_of_factors += factor\n",
    "  return sum_of_factors == number\n",
    "\n",
    "\n",
    "if __name__ == \"__main__\":\n",
    "  number = 6\n",
    "  is_perfect_number = is_perfect_number(number)\n",
    "  print(is_perfect_number)\n"
   ]
  },
  {
   "cell_type": "markdown",
   "id": "d7d14c49",
   "metadata": {},
   "source": [
    "45. Write a Python program to remove all duplicates from a string."
   ]
  },
  {
   "cell_type": "code",
   "execution_count": 41,
   "id": "10a449ca",
   "metadata": {},
   "outputs": [
    {
     "name": "stdout",
     "output_type": "stream",
     "text": [
      "helowrd\n"
     ]
    }
   ],
   "source": [
    "def remove_duplicates(string):\n",
    " \n",
    "\n",
    "  seen_characters = set()\n",
    "  new_string = \"\"\n",
    "  for character in string:\n",
    "    if character not in seen_characters:\n",
    "      new_string += character\n",
    "      seen_characters.add(character)\n",
    "  return new_string\n",
    "\n",
    "\n",
    "if __name__ == \"__main__\":\n",
    "  string = \"helloworld\"\n",
    "  new_string = remove_duplicates(string)\n",
    "  print(new_string)\n"
   ]
  },
  {
   "cell_type": "markdown",
   "id": "ff2d9a71",
   "metadata": {},
   "source": [
    "46. Implement a function to find the first missing positive\n"
   ]
  },
  {
   "cell_type": "code",
   "execution_count": 42,
   "id": "4a348b2c",
   "metadata": {},
   "outputs": [
    {
     "name": "stdout",
     "output_type": "stream",
     "text": [
      "List: [1, -1, 3, 4]\n",
      "First missing positive integer: 2\n"
     ]
    }
   ],
   "source": [
    "def find_first_missing_positive(nums):\n",
    "    n = len(nums)\n",
    "\n",
    "    # Step 1: Move all positive numbers to their correct positions\n",
    "    i = 0\n",
    "    while i < n:\n",
    "        if 1 <= nums[i] <= n and nums[nums[i] - 1] != nums[i]:\n",
    "            nums[nums[i] - 1], nums[i] = nums[i], nums[nums[i] - 1]\n",
    "        else:\n",
    "            i += 1\n",
    "\n",
    "    # Step 2: Find the first index where the number is not equal to its index + 1\n",
    "    for i in range(n):\n",
    "        if nums[i] != i + 1:\n",
    "            return i + 1\n",
    "\n",
    "    # Step 3: If all numbers from 1 to n are present, return n + 1\n",
    "    return n + 1\n",
    "\n",
    "# Example usage\n",
    "num_list = [3, 4, -1, 1]\n",
    "first_missing = find_first_missing_positive(num_list)\n",
    "print(\"List:\", num_list)\n",
    "print(\"First missing positive integer:\", first_missing)\n"
   ]
  }
 ],
 "metadata": {
  "kernelspec": {
   "display_name": "Python 3 (ipykernel)",
   "language": "python",
   "name": "python3"
  },
  "language_info": {
   "codemirror_mode": {
    "name": "ipython",
    "version": 3
   },
   "file_extension": ".py",
   "mimetype": "text/x-python",
   "name": "python",
   "nbconvert_exporter": "python",
   "pygments_lexer": "ipython3",
   "version": "3.9.12"
  }
 },
 "nbformat": 4,
 "nbformat_minor": 5
}
